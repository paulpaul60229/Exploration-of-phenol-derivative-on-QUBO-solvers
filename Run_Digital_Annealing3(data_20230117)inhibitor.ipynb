{
 "cells": [
  {
   "cell_type": "code",
   "execution_count": 1,
   "id": "d29d875a-69d0-4365-a351-b2a20a398a95",
   "metadata": {},
   "outputs": [],
   "source": [
    "from pyqubo import Binary, Constraint, SubH\n",
    "from pyqubo import UnaryEncInteger,LogEncInteger\n",
    "import numpy as np\n",
    "import csv\n",
    "import time"
   ]
  },
  {
   "cell_type": "code",
   "execution_count": 2,
   "id": "4f504178-35f6-41c7-9ccc-82e0a5d77ef6",
   "metadata": {},
   "outputs": [],
   "source": [
    "def csv_to_matrix(filename, size):\n",
    "    num_rows, num_cols = size\n",
    "    matrix = []\n",
    "    with open(filename, newline='') as csvfile:\n",
    "        reader = csv.reader(csvfile)\n",
    "        for row in reader:\n",
    "            \n",
    "            if len(row) != num_cols:\n",
    "                raise ValueError(\"Number of columns in row does not match expected number of columns\")\n",
    "            matrix_row = []\n",
    "            for value in row:\n",
    "                try:\n",
    "                    matrix_row.append(float(value))\n",
    "                except ValueError:\n",
    "                    matrix_row.append(value)\n",
    "            matrix.append(matrix_row)\n",
    "    if len(matrix) != num_rows:\n",
    "        raise ValueError(\"Number of rows in matrix does not match expected number of rows\")\n",
    "    return matrix"
   ]
  },
  {
   "cell_type": "markdown",
   "id": "a8c8d206-f539-4be1-b845-2ed027536293",
   "metadata": {},
   "source": [
    "## We input the weight coefficient calculated by DFT calculations from csv file"
   ]
  },
  {
   "cell_type": "code",
   "execution_count": 3,
   "id": "538e3b9b-ea91-4c93-8e52-8889ee1183eb",
   "metadata": {},
   "outputs": [],
   "source": [
    "# In our proof-of concept work, there are 5 sites and 11 different molecular structure to choose.\n",
    "num_of_position, num_of_mol = 5,11\n",
    "\n",
    "# The contribution from one functional group.\n",
    "w = csv_to_matrix('0117data_one_functional group.csv', (5,11))\n",
    "\n",
    "# The contribution from the interactions of two functional groups\n",
    "W10 = csv_to_matrix('0117data_R1R2_double_functional group.csv', (11,11))\n",
    "W34 = csv_to_matrix('0117data_R1R2_double_functional group.csv', (11,11))\n",
    "\n",
    "\n",
    "W21 = csv_to_matrix('0117data_R2R3_double_functional group.csv', (11,11))\n",
    "W23 = csv_to_matrix('0117data_R2R3_double_functional group.csv', (11,11))\n",
    "# second nearest neighbor interaction\n",
    "W04 = csv_to_matrix('0117data_R1R5_double_functional group.csv', (11,11))\n",
    "\n",
    "\n",
    "W20 = csv_to_matrix('0117data_R1R3_double_functional group.csv', (11,11))\n",
    "W24 = csv_to_matrix('0117data_R1R3_double_functional group.csv', (11,11))\n",
    "\n",
    "\n",
    "W31 = csv_to_matrix('0117data_R2R4_double_functional group.csv', (11,11))\n",
    "\n",
    "\n",
    "W30 = csv_to_matrix('0117data_R1R4_double_functional group.csv', (11,11))\n",
    "W14 = csv_to_matrix('0117data_R1R4_double_functional group.csv', (11,11))"
   ]
  },
  {
   "cell_type": "markdown",
   "id": "5f661899-8683-4158-955a-001bd6f1d3de",
   "metadata": {},
   "source": [
    "### Here we label variables as $x_{ij}$, where $i$ labels different sites and $j$ labels different functional groups."
   ]
  },
  {
   "cell_type": "code",
   "execution_count": 4,
   "id": "90ded681-60c6-4546-96ff-1191039bd504",
   "metadata": {},
   "outputs": [],
   "source": [
    "# create the binary variables for the objective function\n",
    "def create_x_vars(num_of_position, num_of_mol):\n",
    "    a = np.ndarray(shape=(num_of_position, num_of_mol), dtype=Binary)\n",
    "    for i in range(num_of_position):\n",
    "        for j in range(num_of_mol):\n",
    "            vars_name = 'x'+str(i)+'_'+str(j)\n",
    "            a[i][j] = Binary(vars_name)\n",
    "    return a"
   ]
  },
  {
   "cell_type": "markdown",
   "id": "53d8d67a-bb9c-414a-b4bc-dcb38a6b7cef",
   "metadata": {},
   "source": [
    "### We construct the objective function according to our weight coefficients."
   ]
  },
  {
   "cell_type": "code",
   "execution_count": 5,
   "id": "c2c9edb9-0fda-4134-98b9-30956ef061f9",
   "metadata": {},
   "outputs": [],
   "source": [
    "# construct objective function\n",
    "x = create_x_vars(num_of_position, num_of_mol)\n",
    "\n",
    "# The variable \"summ\" corresponds to the summation over the total contribution from the single functional group.\n",
    "summ = 0\n",
    "for i in range(num_of_position):\n",
    "    for j in range(num_of_mol):\n",
    "        summ += w[i][j]*x[i][j]\n",
    "        \n",
    "\n",
    "# The following variables correspond to the contributions from the interaction from each pair of two functional groups.         \n",
    "summ_10 = 0\n",
    "summ_21 = 0\n",
    "summ_23 = 0\n",
    "summ_34 = 0\n",
    "summ_04 = 0\n",
    "\n",
    "summ_20 = 0\n",
    "summ_24 = 0\n",
    "\n",
    "summ_31 = 0\n",
    "summ_30 = 0\n",
    "summ_14 = 0\n",
    "\n",
    "\n",
    "for i in range(1,num_of_mol):\n",
    "    for j in range(1,num_of_mol):\n",
    "        # nearest neighbor interaction\n",
    "        summ_10 += W10[j][i]*x[1][j]*x[0][i]\n",
    "        summ_34 += W34[j][i]*x[3][j]*x[4][i] \n",
    "\n",
    "        summ_21 += W21[j][i]*x[2][j]*x[1][i]  \n",
    "        summ_23 += W23[j][i]*x[2][j]*x[3][i]\n",
    "\n",
    "        summ_04 += W04[j][i]*x[0][j]*x[4][i] \n",
    "\n",
    "        # second nearest neighbor interaction\n",
    "        summ_20 += W20[j][i]*x[2][j]*x[0][i] \n",
    "        summ_24 += W24[j][i]*x[2][j]*x[4][i]\n",
    "\n",
    "        summ_31 += W31[j][i]*x[3][j]*x[1][i] \n",
    "        summ_30 += W30[j][i]*x[3][j]*x[0][i] \n",
    "        summ_14 += W14[j][i]*x[1][j]*x[4][i]\n",
    "\n",
    "obj =  (summ_10 + summ_34 + summ_21 + summ_23 + summ_04 + summ_20 + summ_24 + summ_31 + summ_30 + summ_14 ) + summ  + 87.5"
   ]
  },
  {
   "cell_type": "markdown",
   "id": "62d7ee89-fceb-46b3-a380-dddfa8a0bfc8",
   "metadata": {},
   "source": [
    "## We impose the constraints mentioned in the paper onto our objective function."
   ]
  },
  {
   "cell_type": "code",
   "execution_count": 6,
   "id": "78578606-3cda-41ed-b3f0-aacd9331ae93",
   "metadata": {
    "tags": []
   },
   "outputs": [],
   "source": [
    "# This is the contraint for \"one site can only connect to one functional group\".\n",
    "summ_c_all = 0\n",
    "for i in range(num_of_position):\n",
    "    summ_c = 0\n",
    "    for j in range(num_of_mol):\n",
    "        summ_c += x[i][j]\n",
    "    summ_c_all += (summ_c -1)**2\n",
    "    \n",
    "con_1 = summ_c_all\n",
    "\n",
    "# This is the contraint for \"at most three sites could connect to non-hydrogen functional groups\".\n",
    "summ_h = 0\n",
    "for i in range(num_of_position):\n",
    "    summ_h += x[i][0]\n",
    "\n",
    "con_2 = (summ_h -2)**2\n",
    "\n",
    "\n",
    "# The total QUBO model is the combination of objective function and those two contraints.\n",
    "H = SubH(obj, 'sub_h') + 70*(con_1 +con_2)\n",
    "qubo, offset = H.compile().to_qubo()\n",
    "\n",
    "ineq = [{\"coefficient\":1,\"polynomials\":[i]} for i in range(len(H.compile().variables))] + [{\"coefficient\":-3,\"polynomials\":[]}]\n",
    "constraint = {\"terms\": ineq, \"lambda\":1}\n",
    "one_hot_constraint = {\"numbers\":[10, 10, 10, 10, 10]}\n",
    "penalty_polynomial = [{\"coefficient\":-3}] + [{\"coefficient\":1,\"polynomials\":[i]} for i in range(len(H.compile().variables))]"
   ]
  },
  {
   "cell_type": "code",
   "execution_count": 7,
   "id": "d45e078b-7df5-48a7-9060-cdc4e293a3fd",
   "metadata": {
    "tags": []
   },
   "outputs": [],
   "source": [
    "constrain_1_2, offset_1_2 = (con_1+con_2).compile().to_qubo()"
   ]
  },
  {
   "cell_type": "markdown",
   "id": "20a68976-b321-4060-8a1a-90ce28cb07bd",
   "metadata": {},
   "source": [
    "## We use DA solvers to find the low energy solutions of the QUBO model."
   ]
  },
  {
   "cell_type": "code",
   "execution_count": 8,
   "id": "83a07af9-8aae-42b0-8ba4-9f54c15ac3e9",
   "metadata": {},
   "outputs": [],
   "source": [
    "from pyqubo import Binary\n",
    "from pprint import pprint\n",
    "import requests\n",
    "import json\n",
    "import re\n",
    "from __future__ import print_function\n",
    "from time import sleep\n",
    "import copy\n",
    "import numpy as np"
   ]
  },
  {
   "cell_type": "code",
   "execution_count": 9,
   "id": "45bd586c-8b51-4e9f-bd6f-cb0e9ddb00ee",
   "metadata": {},
   "outputs": [],
   "source": [
    "# The input header for the json file\n",
    "# ---------------------------\n",
    "access_key = ''\n",
    "post_url =   \"https://api.aispf.global.fujitsu.com/da\"\n",
    "post_headers = {'X-Api-Key' : access_key, \\\n",
    "                   'Accept': 'application/json', \\\n",
    "                   'content-Type': 'application/json'}\n",
    "\n",
    "rest_url = 'https://api.aispf.global.fujitsu.com'\n",
    "version = 'v3'\n",
    "proxies = {}"
   ]
  },
  {
   "cell_type": "code",
   "execution_count": 11,
   "id": "50c87f71-e8cb-4f35-a0eb-4727d5926c4e",
   "metadata": {},
   "outputs": [],
   "source": [
    "def req(ddic):\n",
    "    response = requests.post(post_url,\n",
    "            json.dumps(ddic), \\\n",
    "            headers=post_headers)\n",
    "    print(response.json())\n",
    "    print(type(response.json()))\n",
    "    return response\n",
    "\n",
    "def qubodic_to_fdic(qdic, offset):\n",
    "    # pyqubo x0, x1 to Fujitsu DA BinaryPolynomial\n",
    "    fdic = {}\n",
    "    gdic = {}\n",
    "    alist = []\n",
    "    for k, v in qdic.items():\n",
    "        edic = {}\n",
    "        a0 = re.sub(r'^[a-zA]', '', k[0])\n",
    "        \n",
    "        a1 = re.sub(r'^[a-zA]', '', k[1])\n",
    "        \n",
    "        edic[\"coefficient\"] = v\n",
    "        if a0[0] == '[':\n",
    "            a0 = a0[1]\n",
    "        if a1[0] == '[':\n",
    "            a1 = a1[1]\n",
    "        edic[\"polynomials\"] = [int(a0), int(a1)]\n",
    "        alist.append(edic)\n",
    "    edic = {}\n",
    "    edic[\"coefficient\"] = offset\n",
    "    alist.append(edic)\n",
    "    gdic[\"terms\"] = alist\n",
    "    fdic[\"binary_polynomial\"] = gdic \n",
    "\n",
    "    return fdic\n",
    "\n",
    "\n",
    "def qubodic_to_fdic_trans(qdic, offset):\n",
    "    # pyqubo x0, x1 to Fujitsu DA BinaryPolynomial\n",
    "    fdic = {}\n",
    "    gdic = {}\n",
    "    alist = []\n",
    "    for k, v in qdic.items():\n",
    "        edic = {}\n",
    "        edic[\"coefficient\"] = v\n",
    "        edic[\"polynomials\"] = [int(k[0]), int(k[1])]\n",
    "        alist.append(edic)\n",
    "    edic = {}\n",
    "    edic[\"coefficient\"] = offset\n",
    "    alist.append(edic)\n",
    "    gdic[\"terms\"] = alist\n",
    "    fdic[\"binary_polynomial\"] = gdic \n",
    "    return fdic\n",
    "\n",
    "\n",
    "class DA3Solver(object):\n",
    "    \"\"\"Digital Annealer Solver class\n",
    "       Arguments:\n",
    "           time_limit_sec:      .\n",
    "           target_energy:       .\n",
    "           num_output_solution: .\n",
    "       Attributes:\n",
    "           rest_url:            Digital Annealer Web API address and port 'http://<address>:<port>'.\n",
    "    \"\"\"\n",
    "\n",
    "    def __init__(self, time_limit_sec=1, target_energy=64, num_output_solution=12):\n",
    "        self.rest_url = rest_url\n",
    "        self.access_key = access_key\n",
    "        self.version = version\n",
    "        self.type_num = None\n",
    "        self.proxies =proxies\n",
    "        self.rest_headers = {'content-type': 'application/json'}\n",
    "        self.params = {}\n",
    "        self.params['time_limit_sec'] = time_limit_sec\n",
    "        self.params['target_energy'] = target_energy\n",
    "        self.params['num_output_solution'] = num_output_solution\n",
    "        self.total_elapsed_time = 0\n",
    "\n",
    "    \n",
    "    def output_request(self, qubo):\n",
    "        \"\"\"Find the minimum value of a Quadratic Polynomial 'poly' and return a object of SolverResponse class\"\"\"\n",
    "        request = {\"fujitsuDA3\": self.params}\n",
    "        request.update(qubo)\n",
    "        headers = self.rest_headers\n",
    "        headers['X-Api-Key'] = self.access_key\n",
    "        return request\n",
    "    \n",
    "    def minimize(self, qubo):\n",
    "        \"\"\"Find the minimum value of a Quadratic Polynomial 'poly' and return a object of SolverResponse class\"\"\"\n",
    "        request = {\"fujitsuDA3\": self.params}\n",
    "        request.update(qubo)\n",
    "        headers = self.rest_headers\n",
    "        headers['X-Api-Key'] = self.access_key\n",
    "        sleep(10)\n",
    "        post_status = requests.post(self.rest_url + '/da/' + self.version + '/async/qubo/solve', json.dumps(request), headers=headers, proxies=self.proxies)\n",
    "        jobid = post_status.json()['job_id']\n",
    "        sleep(request['fujitsuDA3']['time_limit_sec'])\n",
    "        response = requests.get(self.rest_url + '/da/' + self.version + '/async/jobs/result/' + jobid, headers=headers, proxies=self.proxies)\n",
    "        delete_status = requests.delete(self.rest_url + '/da/' + self.version + '/async/jobs/result/' + jobid, headers=headers, proxies=self.proxies)\n",
    "        if post_status.ok:\n",
    "            j = response.json()\n",
    "            try:\n",
    "                if j[u'qubo_solution'].get(u'timing'):\n",
    "                    self.total_elapsed_time = j[u'qubo_solution'][u'timing'][u'total_elapsed_time']\n",
    "                if j[u'qubo_solution'][u'result_status']:\n",
    "                    return SolverResponse(response)\n",
    "                raise RuntimeError('result_status is false.')\n",
    "            except KeyError:\n",
    "                return jobid\n",
    "        else:\n",
    "            raise RuntimeError(response.text)\n",
    "    \n",
    "class SolverResponse(object):\n",
    "    \"\"\"Solver Response class\n",
    "       Attributes:\n",
    "           response:          The raw data which is a response of requests.\n",
    "           answer_mode:       The distribution of solutions. When 'HISTOGRAM' is set, get_solution_list() returns a histogram of solutions.\n",
    "    \"\"\"\n",
    "    class AttributeSolution(object):\n",
    "        def __init__(self, obj):\n",
    "            self.obj = obj\n",
    "\n",
    "        def __getattr__(self, key):\n",
    "            if key in self.obj:\n",
    "                return self.obj.get(key)\n",
    "            else:\n",
    "                raise AttributeError(key)\n",
    "\n",
    "        def keys(self):\n",
    "            return self.obj.keys()\n",
    "        def mini(self):\n",
    "            return self._solutions\n",
    "\n",
    "    def __init__(self, response):\n",
    "        solutions = response.json()[u'qubo_solution'][u'solutions']\n",
    "        self.answer_mode = 'RAW'\n",
    "        self.response = response\n",
    "        self._solutions = [self.AttributeSolution(d) for d in solutions]\n",
    "        self._solution_histogram = []\n",
    "        lowest_energy = None\n",
    "        for sol in solutions:\n",
    "            if lowest_energy is None or lowest_energy > sol.get(u'energy'):\n",
    "                lowest_energy = sol.get(u'energy')\n",
    "                self.minimum_solution = self.AttributeSolution(sol)\n",
    "        for i, d in enumerate(solutions):\n",
    "            if i == solutions.index(d):\n",
    "                self._solution_histogram.append(copy.deepcopy(d))\n",
    "            else:\n",
    "                for s in self._solution_histogram:\n",
    "                    if s[u'configuration'] == d[u'configuration']:\n",
    "                        s[u'frequency'] += 1\n",
    "                        break\n",
    "        self._solution_histogram = sorted([self.AttributeSolution(d) for d in self._solution_histogram], key=lambda x: x.energy)\n",
    "\n",
    "    def get_minimum_energy_solution(self):\n",
    "        \"\"\"Get a minimum energy solution\"\"\"\n",
    "        return self.minimum_solution\n",
    "\n",
    "    def get_solution_list(self):\n",
    "        \"\"\"Get all solution\"\"\"\n",
    "        if self.answer_mode == 'HISTOGRAM':\n",
    "            return self._solution_histogram\n",
    "        else:\n",
    "            return self._solutions\n",
    "\n",
    "def delete_job(job_id):\n",
    "    headers = {\n",
    "         'X-Api-Key': str(access_key),\n",
    "         'Accept': 'application/json',\n",
    "        'content-type': 'application/json'\n",
    "    }\n",
    "    url = 'https://api.aispf.global.fujitsu.com/da/v3/async/jobs/result/'+str(job_id)\n",
    "    response1 = requests.delete(url, headers=headers)\n",
    "\n",
    "def retrive_job(job_id_str):\n",
    "    headers = {\n",
    "         'X-Api-Key': str(access_key),\n",
    "         'Accept': 'application/json',\n",
    "        'content-type': 'application/json'\n",
    "    }\n",
    "    url = 'https://api.aispf.global.fujitsu.com/da/v3/async/jobs/result/'+str(job_id_str)\n",
    "    response1 = requests.get(url, headers=headers)\n",
    "    return response1\n",
    "\n",
    "def output_candidate_energy(result):\n",
    "    # result is in the type of '__main__.SolverResponse'\n",
    "    for j in range(len(result.get_solution_list())):\n",
    "        key_list = list(result.get_solution_list()[j].obj['configuration'].keys())\n",
    "        aa = {label_trans_invers[i]: int(result.get_solution_list()[j].obj['configuration'][i])  for i in key_list}\n",
    "        print('Energy=',result.get_solution_list()[j].obj['energy'])\n",
    "        print('Frequency=',result.get_solution_list()[j].obj['frequency'])\n",
    "        for key, value in aa.items():\n",
    "            if value ==1:\n",
    "                print(key)\n",
    "        print()\n",
    "        \n",
    "from ast import literal_eval\n",
    "def get_job_on_that_day(year,month,day, response):\n",
    "    date =str(year)+'-'+str(month)+'-'+str(day)\n",
    "    my_dict = literal_eval(response.content.decode('utf-8'))\n",
    "    for i in my_dict['job_status_list']:\n",
    "        if i['start_time'][0:10]==str(date):\n",
    "            print(i) \n",
    "    print(len(my_dict['job_status_list']))\n",
    "def retiv_job_output(job_id):\n",
    "    retriv = retrive_job(job_id)\n",
    "    for i in retriv.json()['qubo_solution']['solutions']:\n",
    "        answer_dic = i['configuration']\n",
    "        optimal_energy = i['energy']\n",
    "        time = retriv.json()['qubo_solution']['timing']\n",
    "        key_list = answer_dic.keys()\n",
    "        aa = {label_trans_invers[i]: int(answer_dic[i])  for i in key_list}\n",
    "        for key, value in aa.items():\n",
    "            if value == 1:\n",
    "                print(key)\n",
    "        print(optimal_energy)\n",
    "    print(time)"
   ]
  },
  {
   "cell_type": "code",
   "execution_count": 12,
   "id": "fbff0fd6-1819-4509-b35a-e58af309eda6",
   "metadata": {
    "tags": []
   },
   "outputs": [],
   "source": [
    "# We transform the QUBO model into json format.\n",
    "label_trans = {H.compile().variables[i]:str(i)   for i in range(len(H.compile().variables))}\n",
    "label_trans_invers = {str(i): H.compile().variables[i] for i in range(len(H.compile().variables)) }\n",
    "qubo_trans = {(label_trans[list(qubo)[i][0]] , label_trans[list(qubo)[i][1]]) : qubo[(list(qubo)[i][0] , list(qubo)[i][1])] for i in range(len(list(qubo)))}\n",
    "fdic_trans = qubodic_to_fdic_trans(qubo_trans, offset)"
   ]
  },
  {
   "cell_type": "code",
   "execution_count": 17,
   "id": "5942979a-0500-4e86-9d7f-e4b094c192d8",
   "metadata": {
    "tags": []
   },
   "outputs": [],
   "source": [
    "# We upload the json file to the DA solver.\n",
    "solver = DA3Solver()\n",
    "solver.access_key = access_key\n",
    "solver.rest_url = rest_url\n",
    "solver.version = version\n",
    "solver.proxies = proxies\n",
    "results = solver.minimize(fdic_trans)"
   ]
  },
  {
   "cell_type": "code",
   "execution_count": 18,
   "id": "c844b87c-58dc-4e6a-a675-daec2ead7147",
   "metadata": {
    "tags": []
   },
   "outputs": [
    {
     "name": "stdout",
     "output_type": "stream",
     "text": [
      "0cb62fc0-cefb-4819-a36d-2c921a3d5b6a-233255911485778\n"
     ]
    },
    {
     "data": {
      "text/plain": [
       "{'status': 'Running'}"
      ]
     },
     "execution_count": 18,
     "metadata": {},
     "output_type": "execute_result"
    }
   ],
   "source": [
    "print(results)\n",
    "retriv = retrive_job(results)\n",
    "retrive_job(results).json()"
   ]
  },
  {
   "cell_type": "code",
   "execution_count": 19,
   "id": "e7fffdee-a541-4d68-b25b-fd9f097e662b",
   "metadata": {
    "tags": []
   },
   "outputs": [
    {
     "name": "stdout",
     "output_type": "stream",
     "text": [
      "['x4_8', 'x2_2', 'x0_1'] Energy: 65.6366319899999 ,Frequency: 1\n",
      "['x4_1', 'x2_2', 'x0_8'] Energy: 65.63663199 ,Frequency: 1\n",
      "['x4_8', 'x2_2', 'x0_8'] Energy: 66.6035225969999 ,Frequency: 1\n",
      "['x4_8', 'x1_2', 'x0_1'] Energy: 67.07523233400003 ,Frequency: 1\n",
      "['x4_1', 'x3_2', 'x0_8'] Energy: 67.07523233400002 ,Frequency: 1\n",
      "['x4_2', 'x2_2', 'x0_5'] Energy: 67.68582976599997 ,Frequency: 1\n",
      "['x4_5', 'x2_2', 'x0_2'] Energy: 67.7128123949999 ,Frequency: 1\n",
      "['x4_2', 'x3_2', 'x0_8'] Energy: 67.78501832399998 ,Frequency: 1\n",
      "['x4_8', 'x1_2', 'x0_2'] Energy: 67.78501832399999 ,Frequency: 1\n",
      "['x4_2', 'x1_7', 'x0_2'] Energy: 67.861062463 ,Frequency: 1\n",
      "['x4_2', 'x3_7', 'x0_2'] Energy: 67.86106246299998 ,Frequency: 1\n",
      "['x4_1', 'x2_2', 'x0_5'] Energy: 68.00420080899997 ,Frequency: 1\n"
     ]
    }
   ],
   "source": [
    "# We transform the output sample from the DA solver.\n",
    "samples = retrive_job(results).json()['qubo_solution']['solutions']\n",
    "for i in samples:\n",
    "    a = i['configuration']\n",
    "    output = [ int(a[str(j)]) for j in range(50)]\n",
    "    candidates = [label_trans_invers[str(i)] for i in range(len(output)) if output[i] !=0 ]\n",
    "    print(candidates,'Energy:',i['energy'],',Frequency:',i['frequency'])"
   ]
  },
  {
   "cell_type": "code",
   "execution_count": 21,
   "id": "c3a15ce6-300a-40ae-96bb-81169af75412",
   "metadata": {},
   "outputs": [
    {
     "name": "stdout",
     "output_type": "stream",
     "text": [
      "{'solve_time': '2170', 'total_elapsed_time': '2186'}\n"
     ]
    }
   ],
   "source": [
    "# The time usage for the DA solver to sample out the states.\n",
    "time = retrive_job(results).json()['qubo_solution']['timing']\n",
    "print(time)"
   ]
  },
  {
   "cell_type": "code",
   "execution_count": null,
   "id": "964a1e6e-5d39-48b9-bc5f-7cb76b37f5c8",
   "metadata": {},
   "outputs": [],
   "source": []
  }
 ],
 "metadata": {
  "kernelspec": {
   "display_name": "Python 3",
   "language": "python",
   "name": "python3"
  },
  "language_info": {
   "codemirror_mode": {
    "name": "ipython",
    "version": 3
   },
   "file_extension": ".py",
   "mimetype": "text/x-python",
   "name": "python",
   "nbconvert_exporter": "python",
   "pygments_lexer": "ipython3",
   "version": "3.9.5"
  }
 },
 "nbformat": 4,
 "nbformat_minor": 5
}
